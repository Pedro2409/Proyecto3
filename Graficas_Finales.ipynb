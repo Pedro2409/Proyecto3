{
 "cells": [
  {
   "cell_type": "code",
   "execution_count": 95,
   "metadata": {},
   "outputs": [],
   "source": [
    "import pandas as pd\n",
    "import psycopg2\n",
    "import pandas.io.sql as sqlio\n",
    "import plotly.express as px\n",
    "import dash\n",
    "import dash_core_components as dcc\n",
    "import dash_html_components as html\n",
    "psw='proyecto3'"
   ]
  },
  {
   "cell_type": "code",
   "execution_count": 96,
   "metadata": {},
   "outputs": [
    {
     "name": "stderr",
     "output_type": "stream",
     "text": [
      "C:\\Users\\Sebastian\\AppData\\Local\\Temp\\ipykernel_2916\\1985254552.py:23: UserWarning:\n",
      "\n",
      "pandas only supports SQLAlchemy connectable (engine/connection) or database string URI or sqlite3 DBAPI2 connection. Other DBAPI2 objects are not tested. Please consider using SQLAlchemy.\n",
      "\n"
     ]
    },
    {
     "data": {
      "text/html": [
       "\n",
       "        <iframe\n",
       "            width=\"100%\"\n",
       "            height=\"650\"\n",
       "            src=\"http://127.0.0.1:8050/\"\n",
       "            frameborder=\"0\"\n",
       "            allowfullscreen\n",
       "            \n",
       "        ></iframe>\n",
       "        "
      ],
      "text/plain": [
       "<IPython.lib.display.IFrame at 0x2022e508550>"
      ]
     },
     "metadata": {},
     "output_type": "display_data"
    }
   ],
   "source": [
    "def categ_año():\n",
    "    # Conectarse a la base de datos usando SQLAlchemy\n",
    "    engine = psycopg2.connect(\n",
    "        dbname=\"p3\",\n",
    "        user=\"postgres\",\n",
    "        password=psw,  # Asegúrate de definir la variable 'psw' antes de usarla\n",
    "        host=\"databasep3.cut51ddih3ok.us-east-1.rds.amazonaws.com\",\n",
    "        port='5432'\n",
    "    )\n",
    "    cursor = engine.cursor()\n",
    "\n",
    "    # Consulta SQL para contar la proporción de puntajes por año\n",
    "    query = \"\"\"\n",
    "    SELECT periodo, \n",
    "       punt_global AS \"Puntaje Total\",  -- Cambiar el nombre de la columna\n",
    "       COUNT(*) AS cantidad\n",
    "       FROM dataP3\n",
    "       WHERE periodo IN (2019, 2022)\n",
    "       GROUP BY periodo, punt_global;\n",
    "    \"\"\"\n",
    "    \n",
    "    # Ejecutar la consulta y obtener el resultado como un DataFrame\n",
    "    df = pd.read_sql_query(query, engine)\n",
    "\n",
    "    # Mapear los valores de punt_global según la asignación dada\n",
    "    mapping = {\n",
    "        'Insuficiente (0 - 99)': 1,\n",
    "        'Malo (100 - 199)': 2,\n",
    "        'Regular (200-299)': 3,\n",
    "        'Suficiente (300-399)': 4,\n",
    "        'Sobresaliente (400-500)': 5\n",
    "    }\n",
    "    \n",
    "    # Aplicar el reemplazo de manera más robusta\n",
    "    df['Puntaje Total'] = df['Puntaje Total'].replace({value: key for key, value in mapping.items()})\n",
    "\n",
    "    # Filtrar solo los años que te interesan\n",
    "    df = df[df['periodo'].isin([2019, 2022])]\n",
    "\n",
    "    # Calcular la proporción de cada categoría en relación con la cantidad total por año\n",
    "    df['proporcion'] = df.groupby('periodo')['cantidad'].transform(lambda x: x / x.sum())\n",
    "\n",
    "    # Crear la figura de la gráfica de barras\n",
    "    fig = px.bar(\n",
    "        df, \n",
    "        x='periodo', \n",
    "        y='proporcion',  # Usar la proporción en el eje y\n",
    "        color='Puntaje Total',  # Actualizar el nombre de la columna\n",
    "        labels={'proporcion': 'Porcentaje', 'periodo': 'Año'},\n",
    "        title='Porcentaje por categorías de Puntaje Total ICFES antes y después de pandemia en el departamento de Magdalena',\n",
    "        category_orders={'periodo': [2019, 2022]},  # Ordenar el eje x\n",
    "        color_discrete_sequence=px.colors.sequential.Greens,  # Escala de colores verde\n",
    "        color_discrete_map={'Insuficiente (0 - 99)': 'lime',\n",
    "                            'Malo (100 - 199)': 'palegreen',\n",
    "                            'Regular (200-299)': 'mediumseagreen',\n",
    "                            'Suficiente (300-399)': 'seagreen',\n",
    "                            'Sobresaliente (400-500)': 'darkgreen'},\n",
    "        text=df['proporcion']  # No aplicar formato aquí\n",
    "    )   \n",
    "    \n",
    "    # Personalizar el diseño de la gráfica\n",
    "    fig.update_xaxes(title_text='', showticklabels=False)  # Ocultar etiquetas y valores del eje x\n",
    "    fig.update_yaxes(showgrid=False, showline=False, zeroline=False, title_text='', showticklabels=False)  # Ocultar etiquetas y valores del eje y\n",
    "\n",
    "    # Personalizar el formato del texto y centrarlo\n",
    "    fig.update_traces(texttemplate='%{text:.2%}', \n",
    "                      textfont=dict(color='white', size=14, family='Arial, sans-serif'), \n",
    "                      insidetextanchor='start',\n",
    "                      textposition='inside')\n",
    "\n",
    "    # Crear la aplicación Dash\n",
    "    app = dash.Dash(__name__)\n",
    "\n",
    "    app.layout = html.Div([\n",
    "        dcc.Graph(figure=fig)\n",
    "    ])\n",
    "\n",
    "    # Ejecutar la aplicación Dash\n",
    "    if __name__ == '__main__':\n",
    "        app.run_server(debug=True)\n",
    "\n",
    "# Asegúrate de tener definida la variable 'psw' antes de llamar a la función\n",
    "categ_año()\n",
    "\n",
    "\n"
   ]
  }
 ],
 "metadata": {
  "kernelspec": {
   "display_name": "Python 3",
   "language": "python",
   "name": "python3"
  },
  "language_info": {
   "codemirror_mode": {
    "name": "ipython",
    "version": 3
   },
   "file_extension": ".py",
   "mimetype": "text/x-python",
   "name": "python",
   "nbconvert_exporter": "python",
   "pygments_lexer": "ipython3",
   "version": "3.11.2"
  }
 },
 "nbformat": 4,
 "nbformat_minor": 2
}
