{
 "cells": [
  {
   "cell_type": "code",
   "execution_count": 27,
   "metadata": {},
   "outputs": [],
   "source": [
    "import pandas as pd\n",
    "import psycopg2\n",
    "import pandas.io.sql as sqlio\n",
    "import plotly.express as px\n",
    "import dash\n",
    "import dash_core_components as dcc\n",
    "import dash_html_components as html\n",
    "import seaborn as sns\n",
    "import matplotlib.pyplot as plt\n",
    "import psycopg2\n",
    "from dash.dependencies import Input, Output \n",
    "from plotly.subplots import make_subplots\n",
    "import plotly.graph_objects as go\n",
    "psw='navidadp3'"
   ]
  },
  {
   "cell_type": "markdown",
   "metadata": {},
   "source": [
    "1. Grafica de barras"
   ]
  },
  {
   "cell_type": "code",
   "execution_count": 39,
   "metadata": {},
   "outputs": [
    {
     "name": "stderr",
     "output_type": "stream",
     "text": [
      "C:\\Users\\Sebastian\\AppData\\Local\\Temp\\ipykernel_496\\4207886967.py:23: UserWarning:\n",
      "\n",
      "pandas only supports SQLAlchemy connectable (engine/connection) or database string URI or sqlite3 DBAPI2 connection. Other DBAPI2 objects are not tested. Please consider using SQLAlchemy.\n",
      "\n"
     ]
    },
    {
     "data": {
      "text/html": [
       "\n",
       "        <iframe\n",
       "            width=\"100%\"\n",
       "            height=\"650\"\n",
       "            src=\"http://127.0.0.1:8050/\"\n",
       "            frameborder=\"0\"\n",
       "            allowfullscreen\n",
       "            \n",
       "        ></iframe>\n",
       "        "
      ],
      "text/plain": [
       "<IPython.lib.display.IFrame at 0x18870706c10>"
      ]
     },
     "metadata": {},
     "output_type": "display_data"
    }
   ],
   "source": [
    "\n",
    "def categ_año():\n",
    "    # Conectarse a la base de datos usando SQLAlchemy\n",
    "    engine = psycopg2.connect(\n",
    "        dbname=\"world\",\n",
    "        user=\"postgres\",\n",
    "        password=psw,  # Asegúrate de definir la variable 'psw' antes de usarla\n",
    "        host=\"p3.curxufagptbe.us-east-1.rds.amazonaws.com\",\n",
    "        port='5432'\n",
    "    )\n",
    "    cursor = engine.cursor()\n",
    "\n",
    "    # Consulta SQL para contar la proporción de puntajes por año\n",
    "    query = \"\"\"\n",
    "    SELECT periodo, \n",
    "       punt_global AS \"Cuartil\",  -- Cambiar el nombre de la columna\n",
    "       COUNT(*) AS cantidad\n",
    "       FROM bd_q\n",
    "       WHERE periodo IN (2019, 2022)\n",
    "       GROUP BY periodo, punt_global;\n",
    "    \"\"\"\n",
    "    \n",
    "    # Ejecutar la consulta y obtener el resultado como un DataFrame\n",
    "    df = pd.read_sql_query(query, engine)\n",
    "\n",
    "    # Mapear los valores de punt_global según la asignación dada\n",
    "    mapping = {\n",
    "        1: 'Cuartil 1',\n",
    "        2: 'Cuartil 2',\n",
    "        3: 'Cuartil 3',\n",
    "        4: 'Cuartil 4'\n",
    "    }\n",
    "    \n",
    "    # Aplicar el reemplazo\n",
    "    df['Cuartil'] = df['Cuartil'].replace(mapping)\n",
    "\n",
    "    # Filtrar solo los años que te interesan\n",
    "    df = df[df['periodo'].isin([2019, 2022])]\n",
    "    \n",
    "    # Calcular la proporción de cada categoría en relación con la cantidad total por año\n",
    "    df['proporcion'] = df.groupby('periodo')['cantidad'].transform(lambda x: x / x.sum())\n",
    "\n",
    "    # Crear la figura de la gráfica de barras\n",
    "    fig = px.bar(\n",
    "        df, \n",
    "        x='periodo', \n",
    "        y='proporcion',\n",
    "        color='Cuartil',\n",
    "        labels={'proporcion': 'Porcentaje', 'periodo': 'Año'},\n",
    "        title='Porcentaje de notas ICFES por cuartiles antes y después de pandemia en Magdalena',\n",
    "        category_orders={'Cuartil': ['Cuartil 1', 'Cuartil 2', 'Cuartil 3', 'Cuartil 4']},\n",
    "        color_discrete_sequence=px.colors.sequential.Greens_r,\n",
    "        text=df['proporcion']\n",
    "    )  \n",
    "    \n",
    "    # Personalizar el diseño de la gráfica\n",
    "    fig.update_xaxes(title_text='', showticklabels=True, categoryorder='array', categoryarray=[2019,2022])  # Ocultar etiquetas y valores del eje x\n",
    "    fig.update_yaxes(showgrid=False, showline=False, zeroline=False, title_text='', showticklabels=False)  # Ocultar etiquetas y valores del eje y\n",
    "\n",
    "    # Personalizar el formato del texto y centrarlo\n",
    "    fig.update_traces(texttemplate='%{text:.2%}', \n",
    "                      textfont=dict(color='white', size=18, family='Arial, sans-serif'), \n",
    "                      insidetextanchor='start',\n",
    "                      textposition='inside')\n",
    "\n",
    "    # Crear la aplicación Dash\n",
    "    app = dash.Dash(__name__)\n",
    "\n",
    "    app.layout = html.Div([\n",
    "        dcc.Graph(figure=fig)\n",
    "    ])\n",
    "\n",
    "    # Ejecutar la aplicación Dash\n",
    "    if __name__ == '__main__':\n",
    "        app.run_server(debug=True)\n",
    "\n",
    "# Asegúrate de tener definida la variable 'psw' antes de llamar a la función\n",
    "categ_año()\n",
    "\n"
   ]
  }
 ],
 "metadata": {
  "kernelspec": {
   "display_name": "Python 3",
   "language": "python",
   "name": "python3"
  },
  "language_info": {
   "codemirror_mode": {
    "name": "ipython",
    "version": 3
   },
   "file_extension": ".py",
   "mimetype": "text/x-python",
   "name": "python",
   "nbconvert_exporter": "python",
   "pygments_lexer": "ipython3",
   "version": "3.11.2"
  }
 },
 "nbformat": 4,
 "nbformat_minor": 2
}
