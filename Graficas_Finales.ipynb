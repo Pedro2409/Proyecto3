{
 "cells": [
  {
   "cell_type": "code",
   "execution_count": 13,
   "metadata": {},
   "outputs": [],
   "source": [
    "import pandas as pd\n",
    "import psycopg2\n",
    "import pandas.io.sql as sqlio\n",
    "import plotly.express as px\n",
    "import dash\n",
    "import dash_core_components as dcc\n",
    "import dash_html_components as html\n",
    "psw='proyecto3'"
   ]
  },
  {
   "cell_type": "code",
   "execution_count": 14,
   "metadata": {},
   "outputs": [
    {
     "name": "stderr",
     "output_type": "stream",
     "text": [
      "C:\\Users\\Sebastian\\AppData\\Local\\Temp\\ipykernel_21012\\3128949039.py:23: UserWarning:\n",
      "\n",
      "pandas only supports SQLAlchemy connectable (engine/connection) or database string URI or sqlite3 DBAPI2 connection. Other DBAPI2 objects are not tested. Please consider using SQLAlchemy.\n",
      "\n"
     ]
    },
    {
     "data": {
      "text/html": [
       "\n",
       "        <iframe\n",
       "            width=\"100%\"\n",
       "            height=\"650\"\n",
       "            src=\"http://127.0.0.1:8050/\"\n",
       "            frameborder=\"0\"\n",
       "            allowfullscreen\n",
       "            \n",
       "        ></iframe>\n",
       "        "
      ],
      "text/plain": [
       "<IPython.lib.display.IFrame at 0x2334e827d50>"
      ]
     },
     "metadata": {},
     "output_type": "display_data"
    }
   ],
   "source": [
    "def categ_año():\n",
    "    # Conectarse a la base de datos usando SQLAlchemy\n",
    "    engine = psycopg2.connect(\n",
    "        dbname=\"p3\",\n",
    "        user=\"postgres\",\n",
    "        password=psw,\n",
    "        host=\"databasep3.cut51ddih3ok.us-east-1.rds.amazonaws.com\",\n",
    "        port='5432'\n",
    "    )\n",
    "    cursor = engine.cursor()\n",
    "\n",
    "    # Consulta SQL para contar la proporción de puntajes por año\n",
    "    query = \"\"\"\n",
    "    SELECT periodo, \n",
    "       punt_global,\n",
    "       COUNT(*) AS cantidad\n",
    "       FROM dataP3\n",
    "       WHERE periodo IN (2019, 2022)\n",
    "       GROUP BY periodo, punt_global;\n",
    "    \"\"\"\n",
    "    \n",
    "    # Ejecutar la consulta y obtener el resultado como un DataFrame\n",
    "    df = pd.read_sql_query(query, engine)\n",
    "\n",
    "    # Crear la figura de la gráfica de barras\n",
    "    fig = px.bar(\n",
    "        df, \n",
    "        x='periodo', \n",
    "        y='cantidad',\n",
    "        color='punt_global',\n",
    "        labels={'cantidad': 'Cantidad', 'periodo': 'Año Periodo'},\n",
    "        title='Cantidad por Categoría del Año Periodo',\n",
    "    )   \n",
    "\n",
    "    # Crear la aplicación Dash\n",
    "    app = dash.Dash(__name__)\n",
    "\n",
    "    app.layout = html.Div([\n",
    "        dcc.Graph(figure=fig)\n",
    "    ])\n",
    "\n",
    "    # Ejecutar la aplicación Dash\n",
    "    if __name__ == '__main__':\n",
    "        app.run_server(debug=True)\n",
    "\n",
    "categ_año()\n"
   ]
  }
 ],
 "metadata": {
  "kernelspec": {
   "display_name": "Python 3",
   "language": "python",
   "name": "python3"
  },
  "language_info": {
   "codemirror_mode": {
    "name": "ipython",
    "version": 3
   },
   "file_extension": ".py",
   "mimetype": "text/x-python",
   "name": "python",
   "nbconvert_exporter": "python",
   "pygments_lexer": "ipython3",
   "version": "3.11.2"
  }
 },
 "nbformat": 4,
 "nbformat_minor": 2
}
